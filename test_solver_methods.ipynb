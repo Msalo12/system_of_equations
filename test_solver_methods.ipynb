{
 "cells": [
  {
   "cell_type": "markdown",
   "id": "4b93974a-c1c0-4701-aabf-9c384caa8de1",
   "metadata": {},
   "source": [
    "### Descriptions of Code Blocks:\n",
    "\n",
    "1.  **Import Statements**:\n",
    "    \n",
    "    *   This block imports the required methods from your `system_of_equations.equation_solvers` module. Each import corresponds to a different method for solving systems of linear equations."
   ]
  },
  {
   "cell_type": "code",
   "execution_count": 4,
   "id": "4971d9da-4af9-4bd6-bde2-09ea087b8563",
   "metadata": {},
   "outputs": [],
   "source": [
    "from system_of_equations.equation_solvers.gauss_jordan_method import GaussJordanMethod\n",
    "from system_of_equations.equation_solvers.gauss_method import GaussMethod\n",
    "from system_of_equations.equation_solvers.matrix_method import MatrixMethod\n",
    "from system_of_equations.equation_solvers.simple_iterations_method import SimpleIterationMethod\n",
    "from system_of_equations.equation_solvers.three_diagonal_matrix_method import TridiagonalMatrixMethod\n"
   ]
  },
  {
   "cell_type": "markdown",
   "id": "3e789984-3092-4640-b79c-cb5cc9b6b363",
   "metadata": {},
   "source": [
    "**Gauss-Jordan Method**:\n",
    "\n",
    "*   This section tests the Gauss-Jordan elimination method for solving linear equations. A matrix is defined, and the `GaussJordanMethod` is instantiated with this matrix. The solution of the linear system is printed."
   ]
  },
  {
   "cell_type": "code",
   "execution_count": 2,
   "id": "ddd933a4-461c-475b-991c-a2de387b2b07",
   "metadata": {},
   "outputs": [
    {
     "name": "stdout",
     "output_type": "stream",
     "text": [
      "Testing GaussJordanMethod...\n",
      "Solution: [2.0, 3.0, -1.0]\n"
     ]
    }
   ],
   "source": [
    "print(\"Testing GaussJordanMethod...\")\n",
    "matrix = [[2, 1, -1, 8], [-3, -1, 2, -11], [-2, 1, 2, -3]]\n",
    "gj_method = GaussJordanMethod(matrix)\n",
    "print(\"Solution:\", gj_method.solve_linear_system())\n"
   ]
  },
  {
   "cell_type": "markdown",
   "id": "ceb339bb-9a1f-41fe-bfe8-ca05b891c0bf",
   "metadata": {},
   "source": [
    "**Gauss Method**:\n",
    "\n",
    "*   Similar to the Gauss-Jordan method block, this part tests the Gauss elimination method. It uses the same matrix and prints the solution obtained from the `GaussMethod`."
   ]
  },
  {
   "cell_type": "code",
   "execution_count": 3,
   "id": "db7f5332-b89f-430c-b182-9925f8a263c3",
   "metadata": {},
   "outputs": [
    {
     "name": "stdout",
     "output_type": "stream",
     "text": [
      "\n",
      "Testing GaussMethod...\n",
      "Solution: [2.0, 3.0000000000000004, -0.9999999999999999]\n"
     ]
    }
   ],
   "source": [
    "print(\"\\nTesting GaussMethod...\")\n",
    "matrix = [[2, 1, -1, 8], [-3, -1, 2, -11], [-2, 1, 2, -3]]\n",
    "gm_method = GaussMethod(matrix)\n",
    "print(\"Solution:\", gm_method.solve_linear_system())\n"
   ]
  },
  {
   "cell_type": "markdown",
   "id": "07d62f2c-e853-4384-a20f-43ecf895066a",
   "metadata": {},
   "source": [
    "**Matrix Method**:\n",
    "\n",
    "*   This block tests a matrix method for solving linear equations. It defines a coefficient matrix and a right-hand side vector, uses the `MatrixMethod` to solve the system, and prints the solution."
   ]
  },
  {
   "cell_type": "code",
   "execution_count": null,
   "id": "2cdb47e9-f0a5-4bfb-8862-6ff2a5d30810",
   "metadata": {},
   "outputs": [],
   "source": [
    "print(\"\\nTesting MatrixMethod...\")\n",
    "coefficient_matrix = [[4, 12, -16], [12, 37, -43], [-16, -43, 98]]\n",
    "right_hand_side = [1, 2, 3]\n",
    "mm_method = MatrixMethod(coefficient_matrix, right_hand_side)\n",
    "print(\"Solution:\", mm_method.solve_linear_system())\n"
   ]
  },
  {
   "cell_type": "markdown",
   "id": "5fa6b04e-5c98-456d-a370-f2c22fc41441",
   "metadata": {},
   "source": [
    "**Simple Iteration Method**:\n",
    "\n",
    "*   This section tests the simple iteration method. It defines a matrix, an initial guess, tolerance, and maximum iterations for the iterative method. The `SimpleIterationMethod` is then used to solve the system, and the solution is printed."
   ]
  },
  {
   "cell_type": "code",
   "execution_count": null,
   "id": "66c9be63-933f-4a8f-aff1-1a14d5b4f1d4",
   "metadata": {},
   "outputs": [],
   "source": [
    "print(\"\\nTesting SimpleIterationMethod...\")\n",
    "matrix = [[4, 1, 1], [2, 5, 1], [1, 2, 4]]\n",
    "initial_guess = [1, 1, 1]\n",
    "tolerance = 0.01\n",
    "max_iterations = 100\n",
    "si_method = SimpleIterationMethod(matrix, initial_guess, tolerance, max_iterations)\n",
    "print(\"Solution:\", si_method.solve_linear_system())\n"
   ]
  },
  {
   "cell_type": "markdown",
   "id": "b40ae988-b4f6-4dad-b54f-92b596565af9",
   "metadata": {},
   "source": [
    "**Tridiagonal Matrix Method**:\n",
    "\n",
    "*   The final block tests the method for solving tridiagonal matrix systems. It defines the components of a tridiagonal matrix and uses the `TridiagonalMatrixMethod` to find and print the solution."
   ]
  },
  {
   "cell_type": "code",
   "execution_count": null,
   "id": "dbedce62-ad6e-4ae4-a565-59b70052a52b",
   "metadata": {},
   "outputs": [],
   "source": [
    "print(\"\\nTesting TridiagonalMatrixMethod...\")\n",
    "a = [1, 1]\n",
    "b = [4, 4, 4]\n",
    "c = [1, 1]\n",
    "d = [7, 8, 5]\n",
    "td_method = TridiagonalMatrixMethod(a, b, c, d)\n",
    "print(\"Solution:\", td_method.solve_linear_system())"
   ]
  }
 ],
 "metadata": {
  "kernelspec": {
   "display_name": "Python 3 (ipykernel)",
   "language": "python",
   "name": "python3"
  },
  "language_info": {
   "codemirror_mode": {
    "name": "ipython",
    "version": 3
   },
   "file_extension": ".py",
   "mimetype": "text/x-python",
   "name": "python",
   "nbconvert_exporter": "python",
   "pygments_lexer": "ipython3",
   "version": "3.11.5"
  }
 },
 "nbformat": 4,
 "nbformat_minor": 5
}
